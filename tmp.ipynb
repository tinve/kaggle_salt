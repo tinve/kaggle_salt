{
 "cells": [
  {
   "cell_type": "code",
   "execution_count": null,
   "metadata": {
    "collapsed": true
   },
   "outputs": [],
   "source": [
    "import torch\n",
    "print(torch.__version__)"
   ]
  },
  {
   "cell_type": "code",
   "execution_count": 4,
   "metadata": {},
   "outputs": [],
   "source": [
    "import cv2\n",
    "import os"
   ]
  },
  {
   "cell_type": "code",
   "execution_count": 9,
   "metadata": {},
   "outputs": [],
   "source": [
    "TRAIN_DIR = '/home/galina/PythonData/kaggle_salt/train/images/'"
   ]
  },
  {
   "cell_type": "code",
   "execution_count": 11,
   "metadata": {},
   "outputs": [
    {
     "data": {
      "text/plain": [
       "4000"
      ]
     },
     "execution_count": 11,
     "metadata": {},
     "output_type": "execute_result"
    }
   ],
   "source": [
    "train_images = os.listdir(TRAIN_DIR)\n",
    "len(train_images)"
   ]
  },
  {
   "cell_type": "code",
   "execution_count": 16,
   "metadata": {},
   "outputs": [],
   "source": [
    "tmp = cv2.imread(str(TRAIN_DIR + train_images[0]))"
   ]
  },
  {
   "cell_type": "code",
   "execution_count": 18,
   "metadata": {},
   "outputs": [
    {
     "data": {
      "text/plain": [
       "array([[[112, 112, 112],\n",
       "        [140, 140, 140],\n",
       "        [162, 162, 162],\n",
       "        ...,\n",
       "        [ 94,  94,  94],\n",
       "        [ 89,  89,  89],\n",
       "        [ 89,  89,  89]],\n",
       "\n",
       "       [[137, 137, 137],\n",
       "        [170, 170, 170],\n",
       "        [172, 172, 172],\n",
       "        ...,\n",
       "        [ 97,  97,  97],\n",
       "        [ 93,  93,  93],\n",
       "        [ 93,  93,  93]],\n",
       "\n",
       "       [[139, 139, 139],\n",
       "        [155, 155, 155],\n",
       "        [135, 135, 135],\n",
       "        ...,\n",
       "        [100, 100, 100],\n",
       "        [ 92,  92,  92],\n",
       "        [ 95,  95,  95]],\n",
       "\n",
       "       ...,\n",
       "\n",
       "       [[105, 105, 105],\n",
       "        [105, 105, 105],\n",
       "        [105, 105, 105],\n",
       "        ...,\n",
       "        [105, 105, 105],\n",
       "        [105, 105, 105],\n",
       "        [105, 105, 105]],\n",
       "\n",
       "       [[105, 105, 105],\n",
       "        [105, 105, 105],\n",
       "        [105, 105, 105],\n",
       "        ...,\n",
       "        [105, 105, 105],\n",
       "        [105, 105, 105],\n",
       "        [105, 105, 105]],\n",
       "\n",
       "       [[105, 105, 105],\n",
       "        [105, 105, 105],\n",
       "        [105, 105, 105],\n",
       "        ...,\n",
       "        [105, 105, 105],\n",
       "        [105, 105, 105],\n",
       "        [105, 105, 105]]], dtype=uint8)"
      ]
     },
     "execution_count": 18,
     "metadata": {},
     "output_type": "execute_result"
    }
   ],
   "source": [
    "tmp"
   ]
  },
  {
   "cell_type": "code",
   "execution_count": null,
   "metadata": {},
   "outputs": [],
   "source": []
  }
 ],
 "metadata": {
  "kernelspec": {
   "display_name": "Python 3",
   "language": "python",
   "name": "python3"
  },
  "language_info": {
   "codemirror_mode": {
    "name": "ipython",
    "version": 3
   },
   "file_extension": ".py",
   "mimetype": "text/x-python",
   "name": "python",
   "nbconvert_exporter": "python",
   "pygments_lexer": "ipython3",
   "version": "3.6.5"
  }
 },
 "nbformat": 4,
 "nbformat_minor": 1
}
